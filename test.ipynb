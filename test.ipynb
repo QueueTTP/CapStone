{
 "cells": [
  {
   "cell_type": "code",
   "execution_count": 1,
   "metadata": {},
   "outputs": [],
   "source": [
    "from flask import Flask\n",
    "from flask_sqlalchemy import SQLAlchemy\n",
    "import pandas as pd\n",
    "import matplotlib.pyplot as plt\n",
    "import time\n",
    "from IPython.display import clear_output, display\n",
    "from dotenv import load_dotenv\n",
    "from Website.models import UserDefaultSettings, UserDynamicPreferences, db\n",
    "import os\n",
    "\n",
    "\n"
   ]
  },
  {
   "cell_type": "code",
   "execution_count": 2,
   "metadata": {},
   "outputs": [],
   "source": [
    "app = Flask(__name__)\n",
    "\n",
    "load_dotenv()\n",
    "\n",
    "# Configuring the database URI from the .env file\n",
    "app.config['SQLALCHEMY_DATABASE_URI'] = os.getenv('DATABASE_URL')\n",
    "app.config['SQLALCHEMY_TRACK_MODIFICATIONS'] = False\n",
    "\n",
    "# Initialize SQLAlchemy with the app\n",
    "db.init_app(app)"
   ]
  },
  {
   "cell_type": "code",
   "execution_count": 3,
   "metadata": {},
   "outputs": [],
   "source": [
    "def get_fan_counts():\n",
    "    # Perform the query to get fan counts grouped by current_favorite\n",
    "    query = db.session.query(\n",
    "        UserDynamicPreferences.current_favorite,\n",
    "        db.func.count(UserDynamicPreferences.current_favorite).label('fan_count')\n",
    "    ).group_by(UserDynamicPreferences.current_favorite)\n",
    "    \n",
    "    # Convert query result to Pandas DataFrame\n",
    "    result = query.all()\n",
    "    df = pd.DataFrame(result, columns=['current_favorite', 'fan_count'])\n",
    "    return df"
   ]
  },
  {
   "cell_type": "code",
   "execution_count": 4,
   "metadata": {},
   "outputs": [],
   "source": [
    "def reset_session():\n",
    "    db.session.remove()\n",
    "    db.session.configure(bind=db.engine)  # Rebind the engine if necessary\n",
    "\n",
    "def get_fan_counts():\n",
    "    reset_session()  # Reset the session to avoid stale data\n",
    "    \n",
    "    # Perform the query to get fan counts grouped by current_favorite\n",
    "    query = db.session.query(\n",
    "        UserDynamicPreferences.current_favorite,\n",
    "        db.func.count(UserDynamicPreferences.current_favorite).label('fan_count')\n",
    "    ).group_by(UserDynamicPreferences.current_favorite)\n",
    "    \n",
    "    result = query.all()\n",
    "\n",
    "    # Convert query result to Pandas DataFrame\n",
    "    df = pd.DataFrame(result, columns=['current_favorite', 'fan_count'])\n",
    "\n",
    "    # Debugging: print the result of the query\n",
    "    print(\"Query Result:\")\n",
    "    print(df)\n",
    "\n",
    "    return df\n"
   ]
  },
  {
   "cell_type": "code",
   "execution_count": 5,
   "metadata": {},
   "outputs": [
    {
     "name": "stdout",
     "output_type": "stream",
     "text": [
      "Query Result:\n",
      "    current_favorite  fan_count\n",
      "0         Tony Stark       2496\n",
      "1  Sabrina Carpenter       2426\n",
      "2         Snoop Dogg       2573\n",
      "3       LeBron James       2505\n",
      "    current_favorite  fan_count\n",
      "0         Tony Stark       2496\n",
      "1  Sabrina Carpenter       2426\n",
      "2         Snoop Dogg       2573\n",
      "3       LeBron James       2505\n"
     ]
    },
    {
     "ename": "",
     "evalue": "",
     "output_type": "error",
     "traceback": [
      "\u001b[1;31mThe Kernel crashed while executing code in the current cell or a previous cell. \n",
      "\u001b[1;31mPlease review the code in the cell(s) to identify a possible cause of the failure. \n",
      "\u001b[1;31mClick <a href='https://aka.ms/vscodeJupyterKernelCrash'>here</a> for more info. \n",
      "\u001b[1;31mView Jupyter <a href='command:jupyter.viewOutput'>log</a> for further details."
     ]
    }
   ],
   "source": [
    "with app.app_context():\n",
    "    df = get_fan_counts()\n",
    "    print(df)  # Check if data is being fetched\n",
    "\n"
   ]
  },
  {
   "cell_type": "markdown",
   "metadata": {},
   "source": [
    "# Run Event Sim"
   ]
  },
  {
   "cell_type": "code",
   "execution_count": 6,
   "metadata": {},
   "outputs": [
    {
     "name": "stdout",
     "output_type": "stream",
     "text": [
      "Query Result:\n",
      "    current_favorite  fan_count\n",
      "0         Tony Stark       2496\n",
      "1  Sabrina Carpenter       2426\n",
      "2         Snoop Dogg       2573\n",
      "3       LeBron James       2505\n",
      "    current_favorite  fan_count\n",
      "0         Tony Stark       2496\n",
      "1  Sabrina Carpenter       2426\n",
      "2         Snoop Dogg       2573\n",
      "3       LeBron James       2505\n",
      "Query Result:\n",
      "    current_favorite  fan_count\n",
      "0         Tony Stark       2496\n",
      "1  Sabrina Carpenter       2426\n",
      "2         Snoop Dogg       2573\n",
      "3       LeBron James       2505\n",
      "    current_favorite  fan_count\n",
      "0         Tony Stark       2496\n",
      "1  Sabrina Carpenter       2426\n",
      "2         Snoop Dogg       2573\n",
      "3       LeBron James       2505\n"
     ]
    }
   ],
   "source": [
    "import matplotlib\n",
    "matplotlib.use('TkAgg')  # Force a GUI backend (if not already set)\n",
    "\n",
    "def display_real_time_plot(refresh_interval=5):\n",
    "    plt.ion()  # Turn on interactive mode\n",
    "    fig, ax = plt.subplots()\n",
    "\n",
    "    # Initialize the plot\n",
    "    ax.set_xlabel('Time (seconds)')\n",
    "    ax.set_ylabel('Number of Fans')\n",
    "    ax.set_title('Real-Time Fan Count of Celebrities')\n",
    "    ax.set_ylim(0, 6000)  # Adjust according to expected fan counts\n",
    "    ax.set_xlim(0, 1000)\n",
    "\n",
    "    # To track data over time\n",
    "    time_data = []\n",
    "    fan_counts_data = {celebrity: [] for celebrity in ['Sabrina Carpenter', 'Snoop Dogg', 'Tony Stark', 'LeBron James']}\n",
    "\n",
    "    # Initialize empty plot lines for each celebrity\n",
    "    lines = {}\n",
    "    for celebrity in fan_counts_data.keys():\n",
    "        lines[celebrity], = ax.plot([], [], label=celebrity)\n",
    "\n",
    "    ax.legend(loc='upper left')\n",
    "\n",
    "    try:\n",
    "        start_time = time.time()\n",
    "        while True:\n",
    "            current_time = time.time() - start_time\n",
    "            time_data.append(current_time)\n",
    "\n",
    "            # Fetch the latest fan counts\n",
    "            df = get_fan_counts()\n",
    "            print(df)  # Debug: print to check if data is being returned\n",
    "\n",
    "            # Update the plot data for each celebrity\n",
    "            for celebrity in fan_counts_data.keys():\n",
    "                fan_count = df[df['current_favorite'] == celebrity]['fan_count'].sum() if not df[df['current_favorite'] == celebrity].empty else 0\n",
    "                fan_counts_data[celebrity].append(fan_count)\n",
    "\n",
    "            # Update plot data\n",
    "            for celebrity, line in lines.items():\n",
    "                line.set_data(time_data, fan_counts_data[celebrity])\n",
    "\n",
    "            # Rescale the x-axis and y-axis dynamically\n",
    "            ax.relim()\n",
    "            ax.autoscale_view()\n",
    "\n",
    "            plt.draw()\n",
    "            plt.pause(0.1)  # Pause to allow real-time updates\n",
    "\n",
    "            time.sleep(refresh_interval)\n",
    "\n",
    "    except KeyboardInterrupt:\n",
    "        print(\"Real-time plot update interrupted.\")\n",
    "    finally:\n",
    "        plt.ioff()\n",
    "        plt.show()  # Keep the final plot visible after interrupt\n",
    "\n",
    "# Main script to display real-time plot\n",
    "if __name__ == '__main__':\n",
    "    with app.app_context():\n",
    "        display_real_time_plot(refresh_interval=5)  # Update every 5 seconds\n"
   ]
  }
 ],
 "metadata": {
  "kernelspec": {
   "display_name": "Python 3 (ipykernel)",
   "language": "python",
   "name": "python3"
  },
  "language_info": {
   "codemirror_mode": {
    "name": "ipython",
    "version": 3
   },
   "file_extension": ".py",
   "mimetype": "text/x-python",
   "name": "python",
   "nbconvert_exporter": "python",
   "pygments_lexer": "ipython3",
   "version": "3.12.5"
  }
 },
 "nbformat": 4,
 "nbformat_minor": 4
}
